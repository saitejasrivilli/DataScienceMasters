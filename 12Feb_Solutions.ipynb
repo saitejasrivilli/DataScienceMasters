{
 "cells": [
  {
   "cell_type": "markdown",
   "id": "78ba4c96-07e3-40fc-b2cc-544c7bf72caa",
   "metadata": {},
   "source": [
    "Q1. What is an Exception in Python? Write the difference between Exceptions and Syntax errors."
   ]
  },
  {
   "cell_type": "markdown",
   "id": "4d42d8c9-eb13-4218-bd49-b9cab0b68db8",
   "metadata": {},
   "source": [
    "The main difference between exceptions and syntax errors is that syntax errors occur when the interpreter cannot understand the code due to incorrect syntax, while exceptions occur when the interpreter understands the code but encounters an error during execution.\n",
    "Syntax errors are typically caught before the program runs, while exceptions are caught during runtime."
   ]
  },
  {
   "cell_type": "code",
   "execution_count": null,
   "id": "6fd5c7fb-6b84-45dd-bb2e-d87511942b23",
   "metadata": {},
   "outputs": [],
   "source": [
    "Q2. What happens when an exception is not handled? Explain with an example and format this properly and show me the answer."
   ]
  },
  {
   "cell_type": "code",
   "execution_count": null,
   "id": "a97881dc-8c24-48a1-b7ef-0024a48a8656",
   "metadata": {},
   "outputs": [],
   "source": [
    "When an exception is not handled in Python, it will result in the program terminating and displaying a traceback error message to the user. This message includes information about the type of exception that occurred, the line of code where it occurred, and the call stack that led to the error."
   ]
  },
  {
   "cell_type": "code",
   "execution_count": null,
   "id": "6b124b8d-2d2a-4512-82b2-e63a79607370",
   "metadata": {},
   "outputs": [],
   "source": [
    "Q3. Which Python statements are used to detect and handle exceptions? Explain with an example."
   ]
  },
  {
   "cell_type": "code",
   "execution_count": null,
   "id": "93d79af9-19cf-4774-9529-b90c431feaac",
   "metadata": {},
   "outputs": [],
   "source": [
    "try-except statements are used to detect and handle exceptions.\n",
    "\n",
    "The try block contains the code that may raise an exception, while the except block contains the code that is executed if an exception occurs."
   ]
  },
  {
   "cell_type": "code",
   "execution_count": null,
   "id": "b3e2bb33-b324-409b-ad63-8ab5d8c0c366",
   "metadata": {},
   "outputs": [],
   "source": [
    "Q4. Explain with an example: try and else, finally and raise."
   ]
  },
  {
   "cell_type": "code",
   "execution_count": null,
   "id": "d7910b2d-4719-4350-bea1-9670eef42586",
   "metadata": {},
   "outputs": [],
   "source": [
    "try and else blocks are used in Python to handle exceptions, and the finally block is used to execute code after the try and else blocks,\n",
    "regardless of whether an exception was raised or not."
   ]
  },
  {
   "cell_type": "code",
   "execution_count": null,
   "id": "715ba742-ac61-437a-822e-81edfb8b73f7",
   "metadata": {},
   "outputs": [],
   "source": [
    "try:\n",
    "    file = open(\"example.txt\", \"r\")\n",
    "except FileNotFoundError:\n",
    "    print(\"Error: File not found.\")\n",
    "else:\n",
    "    print(\"File contents:\")\n",
    "    print(file.read())\n",
    "    file.close()\n",
    "finally:\n",
    "    print(\"Execution complete.\")\n"
   ]
  },
  {
   "cell_type": "code",
   "execution_count": null,
   "id": "82019eb3-b12d-4fc0-a38f-3db19cbba52c",
   "metadata": {},
   "outputs": [],
   "source": [
    "Q5. What are Custom Exceptions in Python? Why do we need Custom Exceptions? Explain with an example\n",
    "Q6. Create a custom exception class. Use this class to handle an exception. Return this text with proper formatting."
   ]
  },
  {
   "cell_type": "code",
   "execution_count": null,
   "id": "b178a2a7-0d86-46dd-aa56-28355b459c72",
   "metadata": {},
   "outputs": [],
   "source": [
    "We need custom exceptions in Python when we want to create a new exception that is not already covered by \n",
    "the built-in exceptions, or when we want to provide more context-specific information about an error that occurs in our code\n"
   ]
  },
  {
   "cell_type": "code",
   "execution_count": 3,
   "id": "2def3739-2bad-4546-879d-fcae6bfe24db",
   "metadata": {},
   "outputs": [
    {
     "name": "stdout",
     "output_type": "stream",
     "text": [
      "Error: Invalid email address.\n",
      "Email sent to: temp@gmail.com\n",
      "Message: Testing\n"
     ]
    }
   ],
   "source": [
    "# Example of defining and raising a custom exception\n",
    "\n",
    "class InvalidEmailError(Exception):\n",
    "    pass\n",
    "\n",
    "def send_email(to_address, message):\n",
    "    if \"@\" not in to_address:\n",
    "        raise InvalidEmailError(\"Error: Invalid email address.\")\n",
    "    else:\n",
    "        # Code to send email message\n",
    "        print(\"Email sent to:\", to_address)\n",
    "        print(\"Message:\", message)\n",
    "\n",
    "# Example usage of the send_email function\n",
    "try:\n",
    "    send_email(\"example.com\", \"Hello, world!\")\n",
    "    \n",
    "except InvalidEmailError as e:\n",
    "    print(e)\n",
    "    \n",
    "try:\n",
    "    send_email(\"temp@gmail.com\", \"Testing\")\n",
    "except InvalidEmailError as e:\n",
    "    print(e)  \n"
   ]
  },
  {
   "cell_type": "code",
   "execution_count": null,
   "id": "8c72f130-b1a0-44bb-8904-a4bdc9baf49f",
   "metadata": {},
   "outputs": [],
   "source": []
  },
  {
   "cell_type": "code",
   "execution_count": null,
   "id": "293062f5-23c6-4d07-9ef7-607bcbb1fbc1",
   "metadata": {},
   "outputs": [],
   "source": []
  }
 ],
 "metadata": {
  "kernelspec": {
   "display_name": "Python 3 (ipykernel)",
   "language": "python",
   "name": "python3"
  },
  "language_info": {
   "codemirror_mode": {
    "name": "ipython",
    "version": 3
   },
   "file_extension": ".py",
   "mimetype": "text/x-python",
   "name": "python",
   "nbconvert_exporter": "python",
   "pygments_lexer": "ipython3",
   "version": "3.10.8"
  }
 },
 "nbformat": 4,
 "nbformat_minor": 5
}
