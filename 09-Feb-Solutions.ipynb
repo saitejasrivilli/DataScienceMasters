{
 "cells": [
  {
   "cell_type": "markdown",
   "id": "d696ffa6-f7b1-46d1-b62b-d235c0db82fc",
   "metadata": {},
   "source": [
    "Create a vehicle class with an init method having instance variables as name_of_vehicle, max_speed\n",
    "and average_of_vehicle."
   ]
  },
  {
   "cell_type": "code",
   "execution_count": 17,
   "id": "5aa11a8f-4c24-4728-a2ef-08d35d441dc5",
   "metadata": {},
   "outputs": [],
   "source": [
    "class Vehicle:\n",
    "    def __init__(self, name_of_vehicle, max_speed, average_of_vehicle):\n",
    "        self.name_of_vehicle = name_of_vehicle\n",
    "        self.max_speed = max_speed\n",
    "        self.average_of_vehicle = average_of_vehicle\n",
    "    def func(self,speed):\n",
    "        return f\"speed is {self.max_speed}.\"\n"
   ]
  },
  {
   "cell_type": "code",
   "execution_count": 3,
   "id": "0e725cc6-8d7f-4995-ac66-6350535f7039",
   "metadata": {},
   "outputs": [
    {
     "name": "stdout",
     "output_type": "stream",
     "text": [
      "Tata Nano\n",
      "10\n",
      "20\n"
     ]
    }
   ],
   "source": [
    "my_vehicle = Vehicle(\"Tata Nano\", 10,20)\n",
    "print(my_vehicle.name_of_vehicle)       \n",
    "print(my_vehicle.max_speed)             \n",
    "print(my_vehicle.average_of_vehicle)   "
   ]
  },
  {
   "cell_type": "markdown",
   "id": "f6c788ce-178f-4b38-97bd-050dec9b5004",
   "metadata": {},
   "source": [
    "Create a child class car from the vehicle class created in Que 1, which will inherit the vehicle class.\n",
    "Create a method named seating_capacity which takes capacity as an argument and returns the name of\n",
    "the vehicle and its seating capacity."
   ]
  },
  {
   "cell_type": "code",
   "execution_count": 24,
   "id": "b0929fa6-277c-403d-8600-1915743138b6",
   "metadata": {},
   "outputs": [],
   "source": [
    "class Car(Vehicle):\n",
    "    def seating_capacity(self,capacity):\n",
    "        return f\"{self.name_of_vehicle} has capacity of {capacity} members.\"  "
   ]
  },
  {
   "cell_type": "code",
   "execution_count": 25,
   "id": "ec3f657e-0bd9-410a-af7e-48070535ae2f",
   "metadata": {},
   "outputs": [
    {
     "name": "stdout",
     "output_type": "stream",
     "text": [
      "Toyota has capacity of 5 members.\n"
     ]
    }
   ],
   "source": [
    "my_car = Car(\"Toyota\", 120, 80)\n",
    "print(my_car.seating_capacity(5))"
   ]
  },
  {
   "cell_type": "markdown",
   "id": "d8849696-4f2d-43be-8759-9d858157a7c5",
   "metadata": {},
   "source": [
    "What is multiple inheritance? Write a python code to demonstrate multiple inheritance.\n",
    "Multiple inheritance is a feature in object-oriented programming where a subclass can inherit from multiple parent classes. This allows the subclass to inherit attributes and methods from all of its parent classes."
   ]
  },
  {
   "cell_type": "code",
   "execution_count": 26,
   "id": "02c4b034-3e08-464c-8f2e-94d03e32b83b",
   "metadata": {},
   "outputs": [],
   "source": [
    "class Animal:\n",
    "    def __init__(self, name):\n",
    "        self.name = name\n",
    "        \n",
    "    def speak(self):\n",
    "        pass\n",
    "    \n",
    "    \n",
    "class Mammal(Animal):\n",
    "    def __init__(self, name):\n",
    "        super().__init__(name)\n",
    "        \n",
    "    def feed_young(self):\n",
    "        pass\n",
    "    \n",
    "    \n",
    "class Bird(Animal):\n",
    "    def __init__(self, name):\n",
    "        super().__init__(name)\n",
    "        \n",
    "    def fly(self):\n",
    "        pass\n",
    "    \n",
    "    \n",
    "class Bat(Mammal, Bird):\n",
    "    def __init__(self, name):\n",
    "        super().__init__(name)\n",
    "        \n",
    "    def speak(self):\n",
    "        return \"Squeak!\"\n",
    "    \n",
    "    def feed_young(self):\n",
    "        return \"The baby bats drink milk.\"\n",
    "    \n",
    "    def fly(self):\n",
    "        return \"The bats fly using their wings.\"\n"
   ]
  },
  {
   "cell_type": "markdown",
   "id": "36667fd7-6471-4afb-a14e-3254740da0e4",
   "metadata": {},
   "source": [
    "What are getter and setter in python? Create a class and create a getter and a setter method in this\n",
    "class."
   ]
  },
  {
   "cell_type": "markdown",
   "id": "4924f6e6-8c9c-4612-90d0-0e1775eed845",
   "metadata": {},
   "source": [
    "Getters and setters are methods used to get and set the values of an object's attributes respectively. \n",
    "The main purpose of using getter and setter methods is to provide data encapsulation, \n",
    "so that the internal implementation of the class can change without affecting the outside code that uses the class."
   ]
  },
  {
   "cell_type": "code",
   "execution_count": 1,
   "id": "46a17ae3-d459-4746-af09-edec8917febc",
   "metadata": {},
   "outputs": [
    {
     "name": "stdout",
     "output_type": "stream",
     "text": [
      "John\n",
      "Jane\n",
      "30\n",
      "35\n"
     ]
    }
   ],
   "source": [
    "class Person:\n",
    "    def __init__(self, name, age):\n",
    "        self._name = name\n",
    "        self._age = age\n",
    "        \n",
    "    def get_name(self):\n",
    "        return self._name\n",
    "    \n",
    "    def set_name(self, name):\n",
    "        self._name = name\n",
    "        \n",
    "    def get_age(self):\n",
    "        return self._age\n",
    "    \n",
    "    def set_age(self, age):\n",
    "        self._age = age\n",
    "        \n",
    "person = Person(\"John\", 30)\n",
    "print(person.get_name())  \n",
    "person.set_name(\"Jane\")\n",
    "print(person.get_name())\n",
    "print(person.get_age())  \n",
    "person.set_age(35)\n",
    "print(person.get_age()) \n"
   ]
  },
  {
   "cell_type": "markdown",
   "id": "49d265d0-b3a3-42e5-8d2f-98a09f6048a5",
   "metadata": {},
   "source": [
    "Q5.What is method overriding in python? Write a python code to demonstrate method overriding."
   ]
  },
  {
   "cell_type": "code",
   "execution_count": 6,
   "id": "2a60fbf3-4da9-4a0d-ae44-144aedd57b6b",
   "metadata": {},
   "outputs": [
    {
     "name": "stdout",
     "output_type": "stream",
     "text": [
      "Generic animal sound\n",
      "Meow\n",
      "Woof\n"
     ]
    }
   ],
   "source": [
    "class Animal:\n",
    "    def make_sound(self):\n",
    "        print(\"Generic animal sound\")\n",
    "\n",
    "class Cat(Animal):\n",
    "    def make_sound(self):\n",
    "        super().make_sound()\n",
    "        print(\"Meow\")\n",
    "\n",
    "class Dog(Cat):\n",
    "    def make_sound(self):\n",
    "        super().make_sound()\n",
    "        print(\"Woof\")\n",
    "\n",
    "\n",
    "animal = Animal()\n",
    "cat = Cat()\n",
    "dog = Dog()\n",
    "\n",
    "   \n",
    "dog.make_sound()    "
   ]
  },
  {
   "cell_type": "code",
   "execution_count": null,
   "id": "8515797f-3036-42bc-ad47-469bfa33d65d",
   "metadata": {},
   "outputs": [],
   "source": []
  },
  {
   "cell_type": "code",
   "execution_count": null,
   "id": "205f4ed7-6b31-45c6-94c8-10268466b460",
   "metadata": {},
   "outputs": [],
   "source": []
  }
 ],
 "metadata": {
  "kernelspec": {
   "display_name": "Python 3 (ipykernel)",
   "language": "python",
   "name": "python3"
  },
  "language_info": {
   "codemirror_mode": {
    "name": "ipython",
    "version": 3
   },
   "file_extension": ".py",
   "mimetype": "text/x-python",
   "name": "python",
   "nbconvert_exporter": "python",
   "pygments_lexer": "ipython3",
   "version": "3.10.8"
  }
 },
 "nbformat": 4,
 "nbformat_minor": 5
}
