{
 "cells": [
  {
   "cell_type": "markdown",
   "id": "437da801-59ed-427a-917d-cd11ca67aaa9",
   "metadata": {},
   "source": [
    "Which function is used to open a file? What are the different modes of opening a file? Explain each mode\n",
    "of file opening.\n",
    "\n",
    "In Python, the open() function is used to open a file. The open() function returns a file object that you can use to read, write, or manipulate the contents of the file.\n",
    "\n",
    "Here are the different modes of opening a file in Python:\n",
    "r,w,a,x,b,t"
   ]
  },
  {
   "cell_type": "code",
   "execution_count": 3,
   "id": "27131bd6-82ce-4f7b-bc05-8a309656d5ea",
   "metadata": {},
   "outputs": [
    {
     "name": "stdout",
     "output_type": "stream",
     "text": [
      "first\n",
      "second\n",
      "third\n",
      "fourth\n",
      "\n"
     ]
    }
   ],
   "source": [
    "file = open('testing.txt', 'r')\n",
    "contents = file.read()\n",
    "print(contents)\n",
    "file.close()"
   ]
  },
  {
   "cell_type": "markdown",
   "id": "377aac38-8dd6-4c47-afb9-8e79779d90c4",
   "metadata": {},
   "source": [
    "Why close() function is used? Why is it important to close a file?"
   ]
  },
  {
   "cell_type": "markdown",
   "id": "a22ff050-a975-4a78-92c1-93ba365265a5",
   "metadata": {},
   "source": [
    "\n",
    "In addition to freeing up system resources, closing a file also ensures that any data that was written to the file is flushed to disk.\n",
    "This means that if the program terminates unexpectedly, any data that was written to the file will still be there when the program is restarted."
   ]
  },
  {
   "cell_type": "markdown",
   "id": "1200e571-b7d1-474a-b73d-53bf9ca806e3",
   "metadata": {},
   "source": [
    "Write a python program to create a text file. Write ‘I want to become a Data Scientist’ in that file. Then\n",
    "close the file. Open this file and read the content of the file."
   ]
  },
  {
   "cell_type": "code",
   "execution_count": 6,
   "id": "3a8a06d1-8c15-4d37-8e6c-6ff969c87a6b",
   "metadata": {},
   "outputs": [
    {
     "name": "stdout",
     "output_type": "stream",
     "text": [
      "I want to become a Data Scientist\n"
     ]
    }
   ],
   "source": [
    "file = open('Q2.txt', 'w')\n",
    "file.write(\"I want to become a Data Scientist\")\n",
    "file.close()\n",
    "file = open('Q2.txt', 'r')\n",
    "contents = file.read()\n",
    "print(contents)\n",
    "file.close()"
   ]
  },
  {
   "cell_type": "markdown",
   "id": "c4573690-b010-40a6-aa82-828d1fba806e",
   "metadata": {},
   "source": [
    "Explain the following with python code: read(), readline() and readlines()."
   ]
  },
  {
   "cell_type": "code",
   "execution_count": 11,
   "id": "6e32e497-2949-4093-b717-ef315306c101",
   "metadata": {},
   "outputs": [
    {
     "name": "stdout",
     "output_type": "stream",
     "text": [
      "first\n",
      "second\n",
      "third\n",
      "fourth\n",
      "\n",
      "first\n",
      "\n",
      "first\n",
      "\n",
      "second\n",
      "\n",
      "third\n",
      "\n",
      "fourth\n",
      "\n"
     ]
    }
   ],
   "source": [
    "#The read() method is used to read the entire contents of a file into a string.\n",
    "# Open a file in read mode\n",
    "file = open('testing.txt', 'r')\n",
    "contents = file.read()\n",
    "print(contents)\n",
    "file.close()\n",
    "\n",
    "#The readline() method is used to read a single line from a file\n",
    "file = open('testing.txt', 'r')\n",
    "line = file.readline()\n",
    "print(line)\n",
    "file.close()\n",
    "\n",
    "# Open a file in read mode\n",
    "file = open('testing.txt', 'r')\n",
    "# Read all the lines of the file into a list line by line\n",
    "lines = file.readlines()\n",
    "for line in lines:\n",
    "    print(line)"
   ]
  },
  {
   "cell_type": "markdown",
   "id": "c23fe791-ac4b-496a-94a6-6753ef09d071",
   "metadata": {},
   "source": [
    "Explain why with statement is used with open(). What is the advantage of using with statement and\n",
    "open() together?"
   ]
  },
  {
   "cell_type": "markdown",
   "id": "74333257-4cd1-41a3-b000-949eb44d66cc",
   "metadata": {},
   "source": [
    "The with statement provides an elegant syntax that eliminates the need for explicitly closing the file using the close() method.\n",
    "When the with block is exited, the file is automatically closed, so there's no need to remember to close it explicitly."
   ]
  },
  {
   "cell_type": "code",
   "execution_count": 12,
   "id": "25a2dc88-4eb6-4d72-98d6-b6f4455b7bc1",
   "metadata": {},
   "outputs": [
    {
     "name": "stdout",
     "output_type": "stream",
     "text": [
      "first\n",
      "second\n",
      "third\n",
      "fourth\n",
      "\n"
     ]
    }
   ],
   "source": [
    "with open('testing.txt', 'r') as file:\n",
    "    data = file.read()\n",
    "    print(data)\n"
   ]
  },
  {
   "cell_type": "markdown",
   "id": "0d5b673f-4a61-401d-8817-0b737a439433",
   "metadata": {},
   "source": [
    "Q6. Explain the write() and writelines() functions. Give a suitable example."
   ]
  },
  {
   "cell_type": "code",
   "execution_count": null,
   "id": "be126042-e74a-46cc-bc20-cfcaef55e971",
   "metadata": {},
   "outputs": [],
   "source": [
    "The write() and writelines() functions are used to write data to a file in Python.\n",
    "\n",
    "The write() function is used to write a single string to a file. It returns the number of characters written to the file."
   ]
  },
  {
   "cell_type": "code",
   "execution_count": null,
   "id": "b01beb10-f040-4564-8cc6-475d9cb176ff",
   "metadata": {},
   "outputs": [],
   "source": []
  }
 ],
 "metadata": {
  "kernelspec": {
   "display_name": "Python 3 (ipykernel)",
   "language": "python",
   "name": "python3"
  },
  "language_info": {
   "codemirror_mode": {
    "name": "ipython",
    "version": 3
   },
   "file_extension": ".py",
   "mimetype": "text/x-python",
   "name": "python",
   "nbconvert_exporter": "python",
   "pygments_lexer": "ipython3",
   "version": "3.10.8"
  }
 },
 "nbformat": 4,
 "nbformat_minor": 5
}
