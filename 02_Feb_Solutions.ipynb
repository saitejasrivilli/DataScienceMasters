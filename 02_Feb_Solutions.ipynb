{
 "cells": [
  {
   "cell_type": "markdown",
   "id": "ade20c87",
   "metadata": {},
   "source": [
    "#1.Tuple is indexed,ordered and immutable. They also contain duplicate iems."
   ]
  },
  {
   "cell_type": "markdown",
   "id": "f40c37e6",
   "metadata": {},
   "source": [
    "#Q2. Two tuple methods are count() and index(). Because tuples are immutable they cannot be changed "
   ]
  },
  {
   "cell_type": "code",
   "execution_count": 3,
   "id": "07195182",
   "metadata": {},
   "outputs": [
    {
     "data": {
      "text/plain": [
       "0"
      ]
     },
     "execution_count": 3,
     "metadata": {},
     "output_type": "execute_result"
    }
   ],
   "source": [
    "#2.\n",
    "t= ('a','a','b','c')\n",
    "t.count('a')\n"
   ]
  },
  {
   "cell_type": "code",
   "execution_count": 4,
   "id": "171a1c81",
   "metadata": {},
   "outputs": [
    {
     "data": {
      "text/plain": [
       "0"
      ]
     },
     "execution_count": 4,
     "metadata": {},
     "output_type": "execute_result"
    }
   ],
   "source": [
    "t.index('a')"
   ]
  },
  {
   "cell_type": "markdown",
   "id": "79616330",
   "metadata": {},
   "source": [
    "#3.Set does not allow duplicates."
   ]
  },
  {
   "cell_type": "code",
   "execution_count": 5,
   "id": "b982292d",
   "metadata": {},
   "outputs": [],
   "source": [
    "List = [1, 1, 1, 2, 1, 3, 1, 4, 2, 1, 2, 2, 2, 3, 2, 4, 3, 1, 3, 2, 3, 3, 3, 4, 4, 1, 4, 2, 4, 3, 4, 4]"
   ]
  },
  {
   "cell_type": "code",
   "execution_count": 7,
   "id": "b216790c",
   "metadata": {},
   "outputs": [
    {
     "name": "stdout",
     "output_type": "stream",
     "text": [
      "{1, 2, 3, 4}\n"
     ]
    }
   ],
   "source": [
    "print(set(List))"
   ]
  },
  {
   "cell_type": "markdown",
   "id": "83c9e96c",
   "metadata": {},
   "source": [
    "##4.update() adds all missing elements to the set on which it is called whereas union() creates a new set."
   ]
  },
  {
   "cell_type": "code",
   "execution_count": 27,
   "id": "b4317735",
   "metadata": {},
   "outputs": [
    {
     "data": {
      "text/plain": [
       "{1, 2, 7, 8}"
      ]
     },
     "execution_count": 27,
     "metadata": {},
     "output_type": "execute_result"
    }
   ],
   "source": [
    "Set1 = {1,2,7,8}\n",
    "Set2= {5,6,3,4}\n",
    "Set3 = Set1.union(Set2)\n",
    "Set1"
   ]
  },
  {
   "cell_type": "code",
   "execution_count": 36,
   "id": "032f03d9",
   "metadata": {},
   "outputs": [
    {
     "data": {
      "text/plain": [
       "{1, 2, 3, 4, 5, 6, 7, 8, 10}"
      ]
     },
     "execution_count": 36,
     "metadata": {},
     "output_type": "execute_result"
    }
   ],
   "source": [
    "Set4 = {1,2,3,4,10}\n",
    "Set5= {4,5,6,7,8}\n",
    "Set4.update(Set5)\n",
    "Set4"
   ]
  },
  {
   "cell_type": "code",
   "execution_count": 37,
   "id": "fa9c932c",
   "metadata": {},
   "outputs": [
    {
     "data": {
      "text/plain": [
       "1"
      ]
     },
     "execution_count": 37,
     "metadata": {},
     "output_type": "execute_result"
    }
   ],
   "source": [
    "#5.Dictionary is unordered mappings for storing objects\n",
    "d = {'k1':1,'k2':2,'k3':3}\n",
    "d['k1']"
   ]
  },
  {
   "cell_type": "code",
   "execution_count": 40,
   "id": "a50d3f97",
   "metadata": {},
   "outputs": [
    {
     "data": {
      "text/plain": [
       "{'k1': 1, 'k2': {'a': 1, 'b': 2}}"
      ]
     },
     "execution_count": 40,
     "metadata": {},
     "output_type": "execute_result"
    }
   ],
   "source": [
    "#6.Yes.\n",
    "d = {'k1': 1, 'k2': {'a': 1, 'b': 2}}\n",
    "d"
   ]
  },
  {
   "cell_type": "code",
   "execution_count": 43,
   "id": "277f546e",
   "metadata": {},
   "outputs": [
    {
     "data": {
      "text/plain": [
       "['Python', 'Machine Learning', 'Deep Learning']"
      ]
     },
     "execution_count": 43,
     "metadata": {},
     "output_type": "execute_result"
    }
   ],
   "source": [
    "#7.\n",
    "dict1 = {'language' : 'Python', 'course': 'Data Science Masters'}\n",
    "x = ['Python', 'Machine Learning', 'Deep Learning']\n",
    "result = dict1.setdefault(\"topics\", x)\n",
    "result"
   ]
  },
  {
   "cell_type": "code",
   "execution_count": null,
   "id": "ca6ae399",
   "metadata": {},
   "outputs": [],
   "source": [
    "#8.\n",
    "dict1 = {'Sport': 'Cricket' , 'Teams': ['India', 'Australia', 'England', 'South Africa', 'Sri Lanka', 'New Zealand']}\n"
   ]
  },
  {
   "cell_type": "code",
   "execution_count": 46,
   "id": "ed5b62bc",
   "metadata": {},
   "outputs": [
    {
     "data": {
      "text/plain": [
       "dict_values(['Python', 'Data Science Masters', ['Python', 'Machine Learning', 'Deep Learning']])"
      ]
     },
     "execution_count": 46,
     "metadata": {},
     "output_type": "execute_result"
    }
   ],
   "source": [
    "dict1.values()"
   ]
  },
  {
   "cell_type": "code",
   "execution_count": 45,
   "id": "6d7f97c7",
   "metadata": {},
   "outputs": [
    {
     "data": {
      "text/plain": [
       "dict_keys(['language', 'course', 'topics'])"
      ]
     },
     "execution_count": 45,
     "metadata": {},
     "output_type": "execute_result"
    }
   ],
   "source": [
    "dict1.keys()"
   ]
  },
  {
   "cell_type": "code",
   "execution_count": 44,
   "id": "e37c40af",
   "metadata": {},
   "outputs": [
    {
     "data": {
      "text/plain": [
       "dict_items([('language', 'Python'), ('course', 'Data Science Masters'), ('topics', ['Python', 'Machine Learning', 'Deep Learning'])])"
      ]
     },
     "execution_count": 44,
     "metadata": {},
     "output_type": "execute_result"
    }
   ],
   "source": [
    "dict1.items()"
   ]
  }
 ],
 "metadata": {
  "kernelspec": {
   "display_name": "Python 3 (ipykernel)",
   "language": "python",
   "name": "python3"
  },
  "language_info": {
   "codemirror_mode": {
    "name": "ipython",
    "version": 3
   },
   "file_extension": ".py",
   "mimetype": "text/x-python",
   "name": "python",
   "nbconvert_exporter": "python",
   "pygments_lexer": "ipython3",
   "version": "3.9.13"
  }
 },
 "nbformat": 4,
 "nbformat_minor": 5
}
