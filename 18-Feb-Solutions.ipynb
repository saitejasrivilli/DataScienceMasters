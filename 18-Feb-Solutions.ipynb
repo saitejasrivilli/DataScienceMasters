{
 "cells": [
  {
   "cell_type": "code",
   "execution_count": null,
   "id": "dac43770-feba-4b5b-a4ac-4ce4770ab97f",
   "metadata": {},
   "outputs": [],
   "source": [
    "Q1. What is an API? Give an example, where an API is used in real life."
   ]
  },
  {
   "cell_type": "code",
   "execution_count": null,
   "id": "5e1f0e8e-d318-4b1b-8def-06259fc3e33c",
   "metadata": {},
   "outputs": [],
   "source": [
    "API stands for Application Programming Interface. It is a set of protocols, routines, and tools used for building\n",
    "software applications. APIs define how different software components should interact with each other\n",
    "and provide a way for developers to access data or functionality from other applications or services."
   ]
  },
  {
   "cell_type": "code",
   "execution_count": null,
   "id": "89ec48bc-69d7-4354-89e1-1ae79e8e0486",
   "metadata": {},
   "outputs": [],
   "source": [
    "An example of an API in real life is the Google Maps API, which allows developers to integrate Google Maps into their own applications. For example, \n",
    "a restaurant review website could use the Google Maps API to show the location of restaurants on a map."
   ]
  },
  {
   "cell_type": "code",
   "execution_count": null,
   "id": "db7e9788-e1de-4d20-920a-5dc5c5ef0888",
   "metadata": {},
   "outputs": [],
   "source": [
    "Q2. Give advantages and disadvantages of using API."
   ]
  },
  {
   "cell_type": "code",
   "execution_count": null,
   "id": "9dc5f171-461f-4271-8781-fb6cdb6a124b",
   "metadata": {},
   "outputs": [],
   "source": [
    "Advantages of using APIs:\n",
    "Reusability\n",
    "Standardization\n",
    "Flexibility\n",
    "Disadvantages of using APIs:\n",
    "Security risks\n",
    "Dependence on third-party services"
   ]
  },
  {
   "cell_type": "code",
   "execution_count": null,
   "id": "28219a62-3889-4c36-9fe5-b3b6d72ff99c",
   "metadata": {},
   "outputs": [],
   "source": [
    "Q3. What is a Web API? Differentiate between API and Web API."
   ]
  },
  {
   "cell_type": "code",
   "execution_count": null,
   "id": "0858c56d-4098-4f23-aac4-6251a7775677",
   "metadata": {},
   "outputs": [],
   "source": [
    "A Web API, also known as a web service or web application programming interface, is an API that \n",
    "allows communication and interaction between web-based systems or applications. Web APIs use HTTP to receive and respond to requests, \n",
    "and they typically return data in formats such as JSON or XML.\n",
    "\n",
    "The main difference between an API and a Web API is that an API can be used to access any type of software or system, \n",
    "while a Web API is specifically designed for web-based systems."
   ]
  },
  {
   "cell_type": "code",
   "execution_count": null,
   "id": "262f8596-7454-4afe-a115-19fdd984d735",
   "metadata": {},
   "outputs": [],
   "source": [
    "Q4. Explain REST and SOAP Architecture. Mention shortcomings of SOAP."
   ]
  },
  {
   "cell_type": "code",
   "execution_count": null,
   "id": "b0476815-d321-4176-a83d-276e29189bb4",
   "metadata": {},
   "outputs": [],
   "source": [
    "REST (Representational State Transfer) is a lightweight architecture that uses HTTP protocol to create scalable and efficient web services.\n",
    "RESTful web services use simple HTTP requests and responses to transfer data in a standardized format such as JSON or XML.\n",
    "REST is widely used in web-based applications because of its simplicity, scalability, and support for multiple data formats.\n",
    "\n",
    "SOAP (Simple Object Access Protocol) is a messaging protocol used for exchanging structured data between web-based systems. SOAP messages \n",
    "are typically encoded in XML format and use different protocols such as HTTP, SMTP, or TCP for transport. \n",
    "\n",
    "Shortcomings of SOAP:\n",
    "\n",
    "Complexity\n",
    "Performance\n",
    "Security\n",
    "Compatibility"
   ]
  },
  {
   "cell_type": "code",
   "execution_count": null,
   "id": "28456a58-24d1-4e35-9e64-67b49a8acab0",
   "metadata": {},
   "outputs": [],
   "source": [
    "Q5. Differentiate between REST and SOAP."
   ]
  },
  {
   "cell_type": "code",
   "execution_count": null,
   "id": "02e99074-06ce-446d-a1b7-f70a28fc1b93",
   "metadata": {},
   "outputs": [],
   "source": [
    "Architecture: SOAP is a more complex architecture than REST.\n",
    "Data Format: REST supports a variety of data formats, including XML, JSON, and plain text, while SOAP only supports XML\n",
    "Performance: REST is generally faster and more efficient than SOAP\n",
    "Flexibility: REST is more flexible \n",
    "Ease of use: REST is generally easier to use\n"
   ]
  },
  {
   "cell_type": "code",
   "execution_count": null,
   "id": "24420a97-d134-4b89-af3a-ef46b17ed10d",
   "metadata": {},
   "outputs": [],
   "source": []
  }
 ],
 "metadata": {
  "kernelspec": {
   "display_name": "Python 3 (ipykernel)",
   "language": "python",
   "name": "python3"
  },
  "language_info": {
   "codemirror_mode": {
    "name": "ipython",
    "version": 3
   },
   "file_extension": ".py",
   "mimetype": "text/x-python",
   "name": "python",
   "nbconvert_exporter": "python",
   "pygments_lexer": "ipython3",
   "version": "3.10.8"
  }
 },
 "nbformat": 4,
 "nbformat_minor": 5
}
