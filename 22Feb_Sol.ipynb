{
 "cells": [
  {
   "cell_type": "code",
   "execution_count": null,
   "id": "fa86a9c3-edb0-41e9-bf2f-95c9c09f4b25",
   "metadata": {},
   "outputs": [],
   "source": [
    "#Q1. Create a Pandas Series that contains the following data: 4, 8, 15, 16, 23, and 42. Then, print the series.\n",
    "import pandas as pd\n",
    "print(pd.Series([4, 8, 15, 16, 23, 42]))\n",
    "\n",
    "#Q2. Create a variable of list type containing 10 elements in it, and apply pandas.Series function on the\n",
    "#variable print it.\n",
    "Ser = pd.Series(list(range(10)))\n",
    "print(Ser)\n",
    "\n",
    "#Q3.\n",
    "\n",
    "df = pd.DataFrame(\n",
    "    {\n",
    "                'Name':['Alice','Bob','Claire'],\n",
    "                'Age': [25,30,27],\n",
    "                'Gender':['Female','Male','Female']\n",
    "    }\n",
    "                )\n",
    "print(df)\n",
    "#Q4. What is ‘DataFrame’ in pandas and how is it different from pandas.series? Explain with an example.\n",
    "#A DataFrame is a 2-dimensional structure used for working with tabular data, #\n",
    " #while a Series is a 1-dimensional structure primarily used for manipulating a single column of data. \n",
    " #As seen above, df is a DataFrame and Ser is a series object\n",
    "\n",
    "#Q5. What are some common functions you can use to manipulate data in a Pandas DataFrame? Can\n",
    "#you give an example of when you might use one of these functions?\n",
    "#Some of functions are tail(),head(),describe(),drop()\n",
    "#Drop is used to remove irrelevant data \n",
    "\n",
    "df = df.drop('Age',axis = 1)\n",
    "print(df)\n",
    "\n",
    "#Q6. Which of the following is mutable in nature Series, DataFrame, Panel?\n",
    "#Series and DataFrame are mutable\n",
    "\n",
    "#Q7. Create a DataFrame using multiple Series. Explain with an example.\n",
    "name = pd.Series(['Alice','Bob','Claire'])\n",
    "age = pd.Series([25,30,27])\n",
    "gender = pd.Series(['Female','Male','Female'])\n",
    "\n",
    "res = pd.DataFrame({'Name': name,'Age': age,'Gender': gender})\n",
    "print(res)"
   ]
  },
  {
   "cell_type": "code",
   "execution_count": null,
   "id": "c4d963c1-f76d-443b-b9fe-c552cfa41e01",
   "metadata": {},
   "outputs": [],
   "source": []
  }
 ],
 "metadata": {
  "kernelspec": {
   "display_name": "Python 3 (ipykernel)",
   "language": "python",
   "name": "python3"
  },
  "language_info": {
   "codemirror_mode": {
    "name": "ipython",
    "version": 3
   },
   "file_extension": ".py",
   "mimetype": "text/x-python",
   "name": "python",
   "nbconvert_exporter": "python",
   "pygments_lexer": "ipython3",
   "version": "3.10.8"
  }
 },
 "nbformat": 4,
 "nbformat_minor": 5
}
