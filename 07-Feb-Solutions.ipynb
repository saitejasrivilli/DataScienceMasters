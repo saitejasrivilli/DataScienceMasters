{
 "cells": [
  {
   "cell_type": "markdown",
   "id": "d09e9772-556c-4064-80a9-9e35f144a932",
   "metadata": {},
   "source": [
    "Q1. You are writing code for a company. The requirement of the company is that you create a python\n",
    "function that will check whether the password entered by the user is correct or not. The function should\n",
    "take the password as input and return the string “Valid Password” if the entered password follows the\n",
    "below-given password guidelines else it should return “Invalid Password”.\n",
    "Note: 1. The Password should contain at least two uppercase letters and at least two lowercase letters.\n",
    "2. The Password should contain at least a number and three special characters.\n",
    "3. The length of the password should be 10 characters long."
   ]
  },
  {
   "cell_type": "code",
   "execution_count": 12,
   "id": "d6aad102-71ee-4a77-bc06-9fa7c991ff44",
   "metadata": {},
   "outputs": [
    {
     "data": {
      "text/plain": [
       "'Valid Password'"
      ]
     },
     "execution_count": 12,
     "metadata": {},
     "output_type": "execute_result"
    }
   ],
   "source": [
    "import re\n",
    "def password_correctness(password):\n",
    "    if len(password) != 10:\n",
    "        return \"Invalid Password\"\n",
    "    uppercase_letters = len(re.findall(r'[A-Z]',password))\n",
    "    lowercase_letters = len(re.findall(r'[a-z]',password))\n",
    "    numbers           = len(re.findall(r'[0-9]',password))\n",
    "    special_chars     = len(re.findall(r'[^A-Za-z0-9]',password))\n",
    "    int(special_chars)\n",
    "    \n",
    "    if uppercase_letters >= 2 and lowercase_letters >= 2 and numbers >= 1and special_chars >= 2:\n",
    "        return \"Valid Password\"\n",
    "    else:\n",
    "        return \"Invalid Password\"\n",
    " \n",
    "\n",
    "password_correctness('ABcd12```-')"
   ]
  },
  {
   "cell_type": "markdown",
   "id": "a07aaca0-ff86-4ed5-b540-540eceb29f68",
   "metadata": {},
   "source": [
    "Q2. Solve the below-given questions using at least one of the following:\n",
    "1. Lambda functioJ\n",
    "2. Filter functioJ\n",
    "3. Zap functioJ\n",
    "4. List ComprehensioI\n",
    "B Check if the string starts with a particular letterY\n",
    "B Check if the string is numericY\n",
    "B Sort a list of tuples having fruit names and their quantity. [(\"mango\",99),(\"orange\",80), (\"grapes\", 1000)-\n",
    "B Find the squares of numbers from 1 to 10Y\n",
    "B Find the cube root of numbers from 1 to 10Y\n",
    "B Check if a given number is evenY\n",
    "B Filter odd numbers from the given list.\n",
    "[1,2,3,4,5,6,7,8,9,10-\n",
    "B Sort a list of integers into positive and negative integers lists.\n",
    "[1,2,3,4,5,6,-1,-2,-3,-4,-5,0]"
   ]
  },
  {
   "cell_type": "code",
   "execution_count": 27,
   "id": "5110fe12-931d-4991-9f8f-9e7165f5e7f2",
   "metadata": {},
   "outputs": [
    {
     "name": "stdout",
     "output_type": "stream",
     "text": [
      "[]\n",
      "String does not start with H\n"
     ]
    }
   ],
   "source": [
    "string = \"ello, World!\"\n",
    "letter = \"H\"\n",
    "#result = any([True if x.startswith(letter) else False for x in [string]])\n",
    "result  = filter(lambda x:x.startswith(letter), string)\n",
    "print(list(result))\n",
    "if list(result):\n",
    "    print(\"String starts with\", letter)\n",
    "else:\n",
    "    print(\"String does not start with\", letter)"
   ]
  },
  {
   "cell_type": "code",
   "execution_count": 20,
   "id": "d1b539f6-3e8b-4e6b-921b-46dc6bade085",
   "metadata": {},
   "outputs": [
    {
     "name": "stdout",
     "output_type": "stream",
     "text": [
      "String is not numeric\n"
     ]
    }
   ],
   "source": [
    "result = filter(lambda x: x.isnumeric(), string)\n",
    "if list(result):\n",
    "    print(\"String is numeric\")\n",
    "else:\n",
    "    print(\"String is not numeric\")"
   ]
  },
  {
   "cell_type": "code",
   "execution_count": 57,
   "id": "b8a314a1-9186-443a-b576-eca999850684",
   "metadata": {},
   "outputs": [
    {
     "name": "stdout",
     "output_type": "stream",
     "text": [
      "[('orange', 80), ('mango', 99), ('grapes', 1000)]\n"
     ]
    }
   ],
   "source": [
    "fruits  =[(\"mango\",99),(\"orange\",80), (\"grapes\", 1000)]\n",
    "sorted_fruits = [f for f in sorted(fruits, key=lambda x: x[1])]\n",
    "print(sorted_fruits)"
   ]
  },
  {
   "cell_type": "code",
   "execution_count": null,
   "id": "68877039-c4af-4114-8cb5-935251f98799",
   "metadata": {},
   "outputs": [],
   "source": [
    "squares = [x**2 for x in range(1, 11)]\n",
    "print(squares)"
   ]
  },
  {
   "cell_type": "code",
   "execution_count": null,
   "id": "06719139-4f26-42db-8480-78a0476d1fd9",
   "metadata": {},
   "outputs": [],
   "source": [
    "cube_roots = list(map(lambda x: math.pow(x, 1/3), range(1, 11)))\n",
    "print(cube_roots)"
   ]
  },
  {
   "cell_type": "code",
   "execution_count": null,
   "id": "1f064f18-6dc5-4f9b-9b26-8bf6073d46c9",
   "metadata": {},
   "outputs": [],
   "source": [
    "number = 5\n",
    "result = filter(lambda x: x % 2 == 0, [number])\n",
    "if list(result):\n",
    "    print(number, \"is even\")\n",
    "else:\n",
    "    print(number, \"is odd\")"
   ]
  },
  {
   "cell_type": "code",
   "execution_count": 50,
   "id": "38284c5e-090b-4fb5-8143-cb24658ddf2f",
   "metadata": {},
   "outputs": [
    {
     "data": {
      "text/plain": [
       "[1, 3, 5, 7, 9]"
      ]
     },
     "execution_count": 50,
     "metadata": {},
     "output_type": "execute_result"
    }
   ],
   "source": [
    "numbers = [0,1, 2, 3, 4, 5, 6, 7, 8, 9, 10]\n",
    "\n",
    "# Using lambda function and filter() function\n",
    "list(filter(lambda x: x % 2 != 0,numbers))"
   ]
  },
  {
   "cell_type": "markdown",
   "id": "394d2f2e-b862-4dff-87bd-870f21495c3d",
   "metadata": {},
   "source": [
    "Sort a list of integers into positive and negative integers lists.\n",
    "[1,2,3,4,5,6,-1,-2,-3,-4,-5,0]"
   ]
  },
  {
   "cell_type": "code",
   "execution_count": 55,
   "id": "f90b13ee-0d07-43f6-bf39-07ca56d2c01f",
   "metadata": {},
   "outputs": [
    {
     "name": "stdout",
     "output_type": "stream",
     "text": [
      "[0, 1, 2, 3, 4, 5, 6]\n",
      "[-5, -4, -3, -2, -1]\n"
     ]
    }
   ],
   "source": [
    "input_list =[1,2,3,4,5,6,-1,-2,-3,-4,-5,0]\n",
    "positive = sorted([x for x in input_list if x >=0])\n",
    "negative = sorted([x for x in input_list if x <0])\n",
    "print(positive)\n",
    "print(negative)"
   ]
  },
  {
   "cell_type": "code",
   "execution_count": 62,
   "id": "6b2c0941-9106-493b-ae3e-3574135a4336",
   "metadata": {},
   "outputs": [
    {
     "data": {
      "text/plain": [
       "[('orange', 80), ('mango', 99), ('grapes', 1000)]"
      ]
     },
     "execution_count": 62,
     "metadata": {},
     "output_type": "execute_result"
    }
   ],
   "source": [
    "x= [(\"mango\",99),(\"orange\",80), (\"grapes\", 1000)]\n",
    "res= sorted(x,key = lambda x:x[1])\n",
    "res\n"
   ]
  }
 ],
 "metadata": {
  "kernelspec": {
   "display_name": "Python 3 (ipykernel)",
   "language": "python",
   "name": "python3"
  },
  "language_info": {
   "codemirror_mode": {
    "name": "ipython",
    "version": 3
   },
   "file_extension": ".py",
   "mimetype": "text/x-python",
   "name": "python",
   "nbconvert_exporter": "python",
   "pygments_lexer": "ipython3",
   "version": "3.10.8"
  }
 },
 "nbformat": 4,
 "nbformat_minor": 5
}
