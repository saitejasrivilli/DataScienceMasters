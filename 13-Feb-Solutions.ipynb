{
 "cells": [
  {
   "cell_type": "code",
   "execution_count": null,
   "metadata": {},
   "outputs": [],
   "source": [
    "When creating a custom exception class, it is recommended to extend the Exception class or one of its subclasses. The reason for this is that the Exception class provides a set of methods and properties that are useful for handling exceptions.\n",
    "\n",
    "For example, the Exception class provides a message property that can be used to store an error message, which can then be retrieved using the str() function or the __str__() method. The Exception class also provides a __init__() method that can be used to initialize the exception object with the error message and any other relevant information.\n",
    "\n",
    "By extending the Exception class or one of its subclasses, you can leverage these methods and properties in your custom exception class, making it easier to use and more consistent with other exception classes in the language. Additionally, extending the Exception class makes it easier for other developers to understand your code and how to handle your \n",
    "custom exceptions, since they will already be familiar with the methods and properties provided by the base Exception class."
   ]
  },
  {
   "cell_type": "code",
   "execution_count": null,
   "metadata": {},
   "outputs": [],
   "source": [
    "class InvalidInputError(Exception):\n",
    "    def __init__(self, message):\n",
    "        super().__init__(message)\n",
    "        self.error_code = 1001\n",
    "    def get_error_code(self):\n",
    "        return self.error_code\n",
    "    \n",
    "def calculate_square_root(num):    \n",
    "    if num < 0:\n",
    "        raise InvalidInputError(\"Cannot calculate square root of negative number\")\n",
    "    else:\n",
    "        return math.sqrt(num)\n"
   ]
  },
  {
   "cell_type": "code",
   "execution_count": null,
   "metadata": {},
   "outputs": [],
   "source": [
    "Write a python program to print Python Exception Hierarchy."
   ]
  },
  {
   "cell_type": "code",
   "execution_count": null,
   "metadata": {},
   "outputs": [],
   "source": [
    "import sys\n",
    "\n",
    "try:\n",
    "  \n",
    "    x = 1 / 0\n",
    "except:\n",
    "    exc_type, exc_value, exc_traceback = sys.exc_info()\n",
    "    print(\"Exception Hierarchy:\")\n",
    "    for cls in exc_type.mro():\n",
    "        print(cls.__name__)\n"
   ]
  },
  {
   "cell_type": "code",
   "execution_count": null,
   "metadata": {},
   "outputs": [],
   "source": [
    "What errors are defined in the ArithmeticError class? Explain any two with an example."
   ]
  },
  {
   "cell_type": "code",
   "execution_count": null,
   "metadata": {},
   "outputs": [],
   "source": [
    "The ArithmeticError class is a base class for exceptions that occur during arithmetic operations. It is a subclass of the Exception class and a \n",
    "superclass of more specific exception classes such as ZeroDivisionError and OverflowError.\n",
    "\n",
    "ZeroDivisionError: This error occurs when we try to divide a number by zero. It is a subclass of the ArithmeticError class. Here's an example:"
   ]
  },
  {
   "cell_type": "code",
   "execution_count": null,
   "metadata": {},
   "outputs": [],
   "source": [
    "try:\n",
    "    x = 1 / 0\n",
    "except ZeroDivisionError:\n",
    "    print(\"Error: Cannot divide by zero\")\n"
   ]
  },
  {
   "cell_type": "code",
   "execution_count": null,
   "metadata": {},
   "outputs": [],
   "source": [
    "OverflowError: This error occurs when the result of an arithmetic operation exceeds the range of representable values for a given numeric type. \n",
    "It is a subclass of the ArithmeticError class. Here's an example:"
   ]
  },
  {
   "cell_type": "code",
   "execution_count": null,
   "metadata": {},
   "outputs": [],
   "source": [
    "try:\n",
    "    x = 99999999999999999999999999999999999999999999999999999999999999 + 1\n",
    "except OverflowError:\n",
    "    print(\"Error: Result is too large to represent\")\n"
   ]
  },
  {
   "cell_type": "code",
   "execution_count": null,
   "metadata": {},
   "outputs": [],
   "source": [
    "Why LookupError class is used? Explain with an example KeyError and IndexError."
   ]
  },
  {
   "cell_type": "code",
   "execution_count": null,
   "metadata": {},
   "outputs": [],
   "source": [
    "The LookupError class is a base class for exceptions that occur when we try to access an item in a collection using an invalid index or key.\n",
    "KeyError: This error occurs when we try to access a dictionary using a key that does not exist in the dictionary.\n",
    "Here's an example:"
   ]
  },
  {
   "cell_type": "code",
   "execution_count": null,
   "metadata": {},
   "outputs": [],
   "source": [
    "d = {'a': 1, 'b': 2, 'c': 3}\n",
    "try:\n",
    "    value = d['d']\n",
    "except KeyError:\n",
    "    print(\"Error: Key 'd' does not exist in dictionary\")\n"
   ]
  },
  {
   "cell_type": "code",
   "execution_count": null,
   "metadata": {},
   "outputs": [],
   "source": [
    "IndexError: This error occurs when we try to access an item in a collection using an invalid index that is out of range. Here's an example:"
   ]
  },
  {
   "cell_type": "code",
   "execution_count": null,
   "metadata": {},
   "outputs": [],
   "source": [
    "a = [1, 2, 3]\n",
    "try:\n",
    "    value = a[3]\n",
    "except IndexError:\n",
    "    print(\"Error: Index is out of range\")\n"
   ]
  },
  {
   "cell_type": "code",
   "execution_count": null,
   "metadata": {},
   "outputs": [],
   "source": [
    "Explain ImportError. What is ModuleNotFoundError?"
   ]
  },
  {
   "cell_type": "code",
   "execution_count": null,
   "metadata": {},
   "outputs": [],
   "source": [
    "ImportError is an exception that is raised when a module, package, or other resource that is required by a Python program cannot be imported.\n",
    "try:\n",
    "    import my_module\n",
    "except ModuleNotFoundError:\n",
    "    print(\"Error: Module not found\")\n"
   ]
  },
  {
   "cell_type": "code",
   "execution_count": null,
   "metadata": {},
   "outputs": [],
   "source": [
    "List down some best practices for exception handling in python."
   ]
  },
  {
   "cell_type": "code",
   "execution_count": null,
   "metadata": {},
   "outputs": [],
   "source": [
    "Use specific exception classes: Catching specific exception classes makes your code more robust and helps to identify the exact error that occurred. Avoid catching broad exceptions like Exception or BaseException because it can mask the exact error.\n",
    "\n",
    "Use try-except blocks judiciously: Use try-except blocks only when you expect an exception to occur. Don't use try-except blocks to suppress errors that you don't understand or can't solve.\n",
    "\n",
    "Keep try blocks as small as possible: Keep the try block as small as possible, only containing the code that can raise an exception."
   ]
  }
 ],
 "metadata": {
  "kernelspec": {
   "display_name": "Python 3 (ipykernel)",
   "language": "python",
   "name": "python3"
  },
  "language_info": {
   "codemirror_mode": {
    "name": "ipython",
    "version": 3
   },
   "file_extension": ".py",
   "mimetype": "text/x-python",
   "name": "python",
   "nbconvert_exporter": "python",
   "pygments_lexer": "ipython3",
   "version": "3.10.8"
  }
 },
 "nbformat": 4,
 "nbformat_minor": 4
}
