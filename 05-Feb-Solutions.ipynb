{
 "cells": [
  {
   "cell_type": "markdown",
   "id": "c8bffff1-6ad5-4be5-b187-274579cceb67",
   "metadata": {},
   "source": [
    "Q1. Explain Class and Object with respect to Object-Oriented Programming. Give a suitable example."
   ]
  },
  {
   "cell_type": "code",
   "execution_count": null,
   "id": "de32540e-f182-4a18-ab85-60878da30c07",
   "metadata": {},
   "outputs": [],
   "source": [
    "#The class serves as a blueprint for creating objects, which are instances of the class. \n",
    "#Objects are the instances of the class that represent real-world entities and have state and behavior."
   ]
  },
  {
   "cell_type": "code",
   "execution_count": 11,
   "id": "a8a9b9f4-aeca-4971-a8ab-f865eaf2d0bf",
   "metadata": {},
   "outputs": [
    {
     "name": "stdout",
     "output_type": "stream",
     "text": [
      "Name of the student is Temp\n",
      "ID of the student is 2022\n"
     ]
    }
   ],
   "source": [
    "class Student:\n",
    "    def __init__(self, name, rollid):\n",
    "        self.name = name\n",
    "        self.rollid = rollid\n",
    "        \n",
    "    def Name(self):\n",
    "        print(\"Name of the student is {}\".format(self.name))\n",
    "        \n",
    "    def printid(self):\n",
    "        print(\"ID of the student is {}\".format(self.rollid))\n",
    "st1 = Student(\"Temp\", 2022) \n",
    "st1.Name()\n",
    "st1.printid()\n"
   ]
  },
  {
   "cell_type": "markdown",
   "id": "3d9536cc-7400-4863-9107-4b76597f4444",
   "metadata": {},
   "source": [
    "Q2. Name the four pillars of OOPs."
   ]
  },
  {
   "cell_type": "code",
   "execution_count": null,
   "id": "0dfbedba-960b-42c2-9bb2-95b835d402de",
   "metadata": {},
   "outputs": [],
   "source": [
    "#Encapsulation,Abstraction,Inheritance,Polymorphism"
   ]
  },
  {
   "cell_type": "markdown",
   "id": "94a8ea07-69a2-4a11-99a4-232b79713456",
   "metadata": {},
   "source": [
    "Q3. Explain why the __init__() function is used. Give a suitable example."
   ]
  },
  {
   "cell_type": "code",
   "execution_count": null,
   "id": "2509d034-a6d6-49b9-93d7-8ee67c8ad965",
   "metadata": {},
   "outputs": [],
   "source": [
    "#It is called when an object of a class is created, and is used to set the initial values for attributes of the object.\n",
    "class Student:\n",
    "    def __init__(self, name, rollid):\n",
    "        self.name = name\n",
    "        self.rollid = rollid\n",
    "        \n",
    "    def Name(self):\n",
    "        print(\"Name of the student is {}\".format(self.name))\n",
    "        \n",
    "    def printid(self):\n",
    "        print(\"ID of the student is {}\".format(self.rollid))\n",
    "st1 = Student(\"Temp\", 2022) \n",
    "st1.Name()\n",
    "st1.printid()\n"
   ]
  },
  {
   "cell_type": "markdown",
   "id": "ac75a5cb-1153-416a-a9d4-e09c2112d7c3",
   "metadata": {},
   "source": [
    "Q4. Why self is used in OOPs?"
   ]
  },
  {
   "cell_type": "markdown",
   "id": "86190ce1-1df2-45da-b449-2768a92e21f7",
   "metadata": {},
   "source": [
    "When an instance method is called, the instance is automatically passed to the method as the first argument (i.e. self), so that the method can operate on the instance's attributes and methods. \n",
    "This allows each instance to have its own unique set of attributes and methods."
   ]
  },
  {
   "cell_type": "markdown",
   "id": "64afadc7-1a2b-434a-873a-c7cc79bcbf7f",
   "metadata": {},
   "source": [
    "Q5. What is inheritance? Give an example for each type of inheritance."
   ]
  },
  {
   "cell_type": "code",
   "execution_count": 12,
   "id": "dc111c45-ab08-4896-aee0-e788f638c2d7",
   "metadata": {},
   "outputs": [
    {
     "name": "stdout",
     "output_type": "stream",
     "text": [
      "Bruno\n",
      "Dog barks\n"
     ]
    }
   ],
   "source": [
    "\"\"\" Inheritance is a fundamental concept of object-oriented programming where a new class is created \n",
    "from an existing class, inheriting the properties and behaviors of the parent class. \n",
    "The new class is called a derived class or subclass, and the existing class is called the \n",
    "base class or superclass.\"\"\"\n",
    "#Single inheritance: In single inheritance, a derived class is created from a single base class.\n",
    "class Animal:\n",
    "    def __init__(self, name):\n",
    "        self.name = name\n",
    "\n",
    "    def speak(self):\n",
    "        print(\"Animal speaks\")\n",
    "\n",
    "class Dog(Animal):\n",
    "    def __init__(self, name):\n",
    "        super().__init__(name)\n",
    "\n",
    "    def speak(self):\n",
    "        print(\"Dog barks\")\n",
    "\n",
    "dog = Dog(\"Bruno\")\n",
    "print(dog.name)\n",
    "dog.speak()\n"
   ]
  },
  {
   "cell_type": "code",
   "execution_count": 17,
   "id": "92863512-90d3-4aea-b94d-3fff09a14d36",
   "metadata": {},
   "outputs": [
    {
     "name": "stdout",
     "output_type": "stream",
     "text": [
      "A\n"
     ]
    }
   ],
   "source": [
    "#Multiple inheritance: In multiple inheritance, a derived class is created from multiple base classes.\n",
    "class A:\n",
    "    def method(self):\n",
    "        print(\"A\")\n",
    "\n",
    "class B:\n",
    "    def method(self):\n",
    "        print(\"B\")\n",
    "\n",
    "class C(A,B):\n",
    "    pass\n",
    "\n",
    "obj = C()\n",
    "obj.method()\n"
   ]
  },
  {
   "cell_type": "code",
   "execution_count": 18,
   "id": "1edb572f-a510-4990-84cc-2a93081895f0",
   "metadata": {},
   "outputs": [
    {
     "name": "stdout",
     "output_type": "stream",
     "text": [
      "Tom\n",
      "Cat meows\n",
      "Bruno\n",
      "Dog barks\n"
     ]
    }
   ],
   "source": [
    "#Hierarchical inheritance: In hierarchical inheritance, multiple derived classes are created from a single base class.\n",
    "class Animal:\n",
    "    def __init__(self, name):\n",
    "        self.name = name\n",
    "\n",
    "    def speak(self):\n",
    "        print(\"Animal speaks\")\n",
    "\n",
    "class Cat(Animal):\n",
    "    def __init__(self, name):\n",
    "        super().__init__(name)\n",
    "\n",
    "    def speak(self):\n",
    "        print(\"Cat meows\")\n",
    "\n",
    "class Dog(Animal):\n",
    "    def __init__(self, name):\n",
    "        super().__init__(name)\n",
    "\n",
    "    def speak(self):\n",
    "        print(\"Dog barks\")\n",
    "\n",
    "cat = Cat(\"Tom\")\n",
    "print(cat.name)\n",
    "cat.speak()\n",
    "\n",
    "dog = Dog(\"Bruno\")\n",
    "print(dog.name)\n",
    "dog.speak()\n"
   ]
  },
  {
   "cell_type": "code",
   "execution_count": 21,
   "id": "2b39d443-3dc6-4be4-bc30-8b1b3726ab31",
   "metadata": {},
   "outputs": [
    {
     "name": "stdout",
     "output_type": "stream",
     "text": [
      "Bruno\n",
      "brown\n",
      "Dog barks\n"
     ]
    }
   ],
   "source": [
    "#Multilevel inheritance: In multilevel inheritance, a derived class is created from another derived class.\n",
    "class Animal:\n",
    "    def __init__(self, name):\n",
    "        self.name = name\n",
    "\n",
    "    def speak(self):\n",
    "        print(\"Animal speaks\")\n",
    "\n",
    "class Pet(Animal):\n",
    "    def __init__(self, name, color):\n",
    "        super().__init__(name)\n",
    "        self.color = color\n",
    "    def speak(self):\n",
    "        print(\"Pet speaks\")\n",
    "\n",
    "class Dog(Pet):\n",
    "    def __init__(self, name, color):\n",
    "        super().__init__(name, color)\n",
    "\n",
    "    def speak(self):\n",
    "        print(\"Dog barks\")\n",
    "\n",
    "dog = Dog(\"Bruno\", \"brown\")\n",
    "print(dog.name)\n",
    "print(dog.color)\n",
    "dog.speak()\n"
   ]
  },
  {
   "cell_type": "code",
   "execution_count": null,
   "id": "55d66788-32d5-455b-a53c-df6223b5d714",
   "metadata": {},
   "outputs": [],
   "source": []
  }
 ],
 "metadata": {
  "kernelspec": {
   "display_name": "Python 3 (ipykernel)",
   "language": "python",
   "name": "python3"
  },
  "language_info": {
   "codemirror_mode": {
    "name": "ipython",
    "version": 3
   },
   "file_extension": ".py",
   "mimetype": "text/x-python",
   "name": "python",
   "nbconvert_exporter": "python",
   "pygments_lexer": "ipython3",
   "version": "3.10.8"
  }
 },
 "nbformat": 4,
 "nbformat_minor": 5
}
