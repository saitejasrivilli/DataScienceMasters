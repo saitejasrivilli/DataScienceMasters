{
 "cells": [
  {
   "cell_type": "markdown",
   "id": "46b1dfd3-c5ce-46fb-9c21-25ebbd7d0e83",
   "metadata": {},
   "source": [
    "Q1. Which keyword is used to create a function? Create a function to return a list of odd numbers in the\n",
    "range of 1 to 25."
   ]
  },
  {
   "cell_type": "code",
   "execution_count": 3,
   "id": "50d54ac7-7f45-4eb7-80b7-3bc567d0a628",
   "metadata": {},
   "outputs": [],
   "source": [
    "#def is used to create function\n",
    "def list_of_odd_numbers():\n",
    "    for i in range(1,25,2):\n",
    "        print(i)\n",
    "list_of_odd_numbers()"
   ]
  },
  {
   "cell_type": "markdown",
   "id": "0ba03fbd-d350-437d-9205-324001d0e919",
   "metadata": {},
   "source": [
    "Q2. Why *args and **kwargs is used in some functions? Create a function each for *args and **kwargs to\n",
    "demonstrate their use."
   ]
  },
  {
   "cell_type": "code",
   "execution_count": null,
   "id": "444f4824-4706-48f7-a3b0-e79519009afa",
   "metadata": {},
   "outputs": [],
   "source": [
    " #*args in function definitions  used to pass a non-key worded, variable-length argument list to a function whereas  \n",
    "#**kwargs in function definitions used to pass a key worded, variable-length argument list to a function. \n"
   ]
  },
  {
   "cell_type": "code",
   "execution_count": 6,
   "id": "48c1d66e-5fe4-46e7-bb9e-04aa40149aac",
   "metadata": {},
   "outputs": [
    {
     "name": "stdout",
     "output_type": "stream",
     "text": [
      "The arguments passed are:\n",
      "one\n",
      "two\n",
      "three\n",
      "pass\n"
     ]
    }
   ],
   "source": [
    "def using_args(*args):\n",
    "    print(\"The arguments passed are:\")\n",
    "    for i in args:\n",
    "        print(i)\n",
    "using_args('one','two','three','pass')  "
   ]
  },
  {
   "cell_type": "code",
   "execution_count": 8,
   "id": "ca0c5ef3-9372-41c1-bdc6-d45114bbf869",
   "metadata": {},
   "outputs": [
    {
     "name": "stdout",
     "output_type": "stream",
     "text": [
      "first == Geeks\n",
      "mid == for\n",
      "last == Geeks\n"
     ]
    }
   ],
   "source": [
    "def using_kwargs(**kwargs):\n",
    "    for key, value in kwargs.items():\n",
    "        print(\"%s == %s\" % (key, value))\n",
    "  \n",
    "\n",
    "using_kwargs(first='Geeks', mid='for', last='Geeks')"
   ]
  },
  {
   "cell_type": "markdown",
   "id": "901a7ca5-71db-43af-898f-05ae17a8fdc4",
   "metadata": {},
   "source": [
    "Q3. What is an iterator in python? Name the method used to initialise the iterator object and the method\n",
    "used for iteration. Use these methods to print the first five elements of the given list [2, 4, 6, 8, 10, 12, 14, 16,\n",
    "18, 20]."
   ]
  },
  {
   "cell_type": "code",
   "execution_count": null,
   "id": "883a09a0-6774-4f86-8279-a0f022181c84",
   "metadata": {},
   "outputs": [],
   "source": [
    "#In Python, an iterator is an object that enables iteration over a container, such as a list, tuple, set, or dictionary.\n",
    "#It provides a way to access elements of a collection sequentially without knowing the underlying structure of the collection."
   ]
  },
  {
   "cell_type": "code",
   "execution_count": 14,
   "id": "ac166caf-6371-4e2e-b157-382fd6474ce8",
   "metadata": {},
   "outputs": [
    {
     "name": "stdout",
     "output_type": "stream",
     "text": [
      "10\n",
      "11\n",
      "12\n",
      "End of list\n"
     ]
    }
   ],
   "source": [
    "my_list = [10,11,12]\n",
    "my_iterator = iter(my_list)\n",
    "try:\n",
    "    while True:\n",
    "        print(next(my_iterator))\n",
    "except:\n",
    "    print(\"End of list\")"
   ]
  },
  {
   "cell_type": "markdown",
   "id": "17016a80-4aa1-4bbd-9a23-83c84cf710c3",
   "metadata": {},
   "source": [
    "Q4. What is a generator function in python? Why yield keyword is used? Give an example of a generator\n",
    "function."
   ]
  },
  {
   "cell_type": "code",
   "execution_count": 24,
   "id": "716930c4-8cff-4033-9768-63c20a70591d",
   "metadata": {},
   "outputs": [
    {
     "name": "stdout",
     "output_type": "stream",
     "text": [
      "0\n",
      "1\n"
     ]
    }
   ],
   "source": [
    "#Generator function is used to create an iterator object which generates sequences of values at run time\n",
    "#instead of storing the values in memory.\n",
    "\n",
    "def fibonacci():\n",
    "    a, b = 0, 1\n",
    "    while True:\n",
    "        yield a\n",
    "        a, b = b, a + b\n",
    "fib = fibonacci()\n",
    "print(next(fib))\n",
    "print(next(fib))"
   ]
  },
  {
   "cell_type": "markdown",
   "id": "106a9a1c-2712-45bf-a037-df3b0e16b713",
   "metadata": {},
   "source": [
    "Q5. Create a generator function for prime numbers less than 1000. Use the next() method to print the\n",
    "first 20 prime numbers."
   ]
  },
  {
   "cell_type": "code",
   "execution_count": 37,
   "id": "b5a5ed88-845c-4922-8a46-75073b16d647",
   "metadata": {},
   "outputs": [
    {
     "name": "stdout",
     "output_type": "stream",
     "text": [
      "2\n",
      "3\n",
      "5\n",
      "7\n",
      "11\n",
      "13\n",
      "17\n",
      "19\n",
      "23\n",
      "29\n",
      "31\n",
      "37\n",
      "41\n",
      "43\n",
      "47\n",
      "53\n",
      "59\n",
      "61\n",
      "67\n",
      "71\n"
     ]
    }
   ],
   "source": [
    "import math\n",
    "def prime_number():\n",
    "    for i in range(2,1000):\n",
    "        if i==2:\n",
    "            yield i \n",
    "        else:\n",
    "            for j in range(2,int(math.sqrt(i))+1):\n",
    "                if i%j == 0:\n",
    "                    break\n",
    "            else:\n",
    "                yield i\n",
    "prime_num1 = prime_number()\n",
    "for i in range(20):\n",
    "    print(next(prime_num1))"
   ]
  },
  {
   "cell_type": "code",
   "execution_count": null,
   "id": "4c698b74-852b-4161-b18f-10b6fff27c34",
   "metadata": {},
   "outputs": [],
   "source": []
  },
  {
   "cell_type": "code",
   "execution_count": null,
   "id": "fc66a568-740d-4a02-9b75-fd21d13f3f47",
   "metadata": {},
   "outputs": [],
   "source": []
  },
  {
   "cell_type": "code",
   "execution_count": null,
   "id": "4f420048-734c-48c2-948b-244dcd980c5a",
   "metadata": {},
   "outputs": [],
   "source": []
  },
  {
   "cell_type": "code",
   "execution_count": null,
   "id": "51f259d9-c830-41fc-9cfd-3ae838f9deaf",
   "metadata": {},
   "outputs": [],
   "source": []
  }
 ],
 "metadata": {
  "kernelspec": {
   "display_name": "Python 3 (ipykernel)",
   "language": "python",
   "name": "python3"
  },
  "language_info": {
   "codemirror_mode": {
    "name": "ipython",
    "version": 3
   },
   "file_extension": ".py",
   "mimetype": "text/x-python",
   "name": "python",
   "nbconvert_exporter": "python",
   "pygments_lexer": "ipython3",
   "version": "3.10.8"
  }
 },
 "nbformat": 4,
 "nbformat_minor": 5
}
