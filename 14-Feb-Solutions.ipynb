{
 "cells": [
  {
   "cell_type": "code",
   "execution_count": null,
   "id": "70f276de-be76-4fd9-9590-cc2bbd6c0a6b",
   "metadata": {},
   "outputs": [],
   "source": [
    "What is multithreading in python? hy is it used? Name the module used to handle threads in python"
   ]
  },
  {
   "cell_type": "code",
   "execution_count": null,
   "id": "9496c973-8f0d-4380-9004-696fd9b75b47",
   "metadata": {},
   "outputs": [],
   "source": [
    "Multithreading in Python is the ability of the Python interpreter to run multiple threads of execution concurrently\n",
    "in the same process. A thread is a separate flow of execution within a process, and multithreading allows \n",
    "multiple threads to execute simultaneously within the same program.\n",
    "The threading module is used to handle threads in Python. "
   ]
  },
  {
   "cell_type": "code",
   "execution_count": null,
   "id": "2230e702-edd6-4866-8f3d-3152d0974e7f",
   "metadata": {},
   "outputs": [],
   "source": [
    "Why threading module used? rite the use of the following functions\n",
    "( activeCount\n",
    " currentThread\n",
    " enumerate)"
   ]
  },
  {
   "cell_type": "code",
   "execution_count": null,
   "id": "2df74242-d150-4da5-a803-a73d0cc34682",
   "metadata": {},
   "outputs": [],
   "source": [
    "The threading module in Python is used for creating and managing threads of execution. "
   ]
  },
  {
   "cell_type": "code",
   "execution_count": null,
   "id": "726d5d80-f8ae-47bd-938c-e159aaf02cfb",
   "metadata": {},
   "outputs": [],
   "source": [
    "Here are the uses of the following functions in the threading module:\n",
    "\n",
    "activeCount(): This function returns the number of Thread objects that are active in the current process. This includes the main thread as well as any additional threads that have been started. It can be useful for monitoring the progress of a program that uses multiple threads.\n",
    "\n",
    "currentThread(): This function returns a reference to the current Thread object. The Thread object represents the thread in which the function is currently executing. This can be useful for debugging and tracing the execution of a program that uses multiple threads.\n",
    "\n",
    "enumerate(): This function returns a list of all Thread objects that are active in the current process. This includes the main thread as well as any additional threads that have been started. It can be useful for monitoring the progress of a program that uses multiple threads, or for iterating over all of the active threads to perform some operation."
   ]
  },
  {
   "cell_type": "code",
   "execution_count": null,
   "id": "2b89d204-36a1-4962-adcb-af199620947f",
   "metadata": {},
   "outputs": [],
   "source": [
    "3. Explain the following functions\n",
    "( run\n",
    " start\n",
    " join\n",
    "' isAlive)"
   ]
  },
  {
   "cell_type": "code",
   "execution_count": null,
   "id": "8d07f6be-a798-43d1-bb14-ed55cf4846ce",
   "metadata": {},
   "outputs": [],
   "source": [
    "run(): This method is called when a new thread is started using the start() method. It contains the code that the thread will execute.\n",
    "\n",
    "start(): This method is used to start a new thread. It creates a new thread of execution and calls the run() method to begin executing the code in the new thread.\n",
    "\n",
    "join(): This method is used to wait for a thread to complete before continuing with the execution of the main thread. When called on a thread object, the join() method blocks the execution of the main thread until the thread being joined completes execution.\n",
    "\n",
    "isAlive(): This method returns a boolean value indicating whether the thread is currently executing or not. If the thread is still running, it returns True, otherwise it returns False."
   ]
  },
  {
   "cell_type": "code",
   "execution_count": null,
   "id": "9a82e9a1-06cc-41e0-98f9-a3c5c4c083a2",
   "metadata": {},
   "outputs": [],
   "source": [
    "4.Write a python program to create two threads. Thread one must print the list of squares and thread\n",
    "two must print the list of cubes"
   ]
  },
  {
   "cell_type": "code",
   "execution_count": null,
   "id": "fb9ac1b4-391d-4184-adb2-4a9e7a496c3c",
   "metadata": {},
   "outputs": [],
   "source": [
    "import threading\n",
    "\n",
    "def print_squares():\n",
    "    for i in range(1, 11):\n",
    "        print(f\"{i} squared is {i**2}\")\n",
    "\n",
    "def print_cubes():\n",
    "    for i in range(1, 11):\n",
    "        print(f\"{i} cubed is {i**3}\")\n",
    "\n",
    "if __name__ == \"__main__\":\n",
    "   \n",
    "    t1 = threading.Thread(target=print_squares)\n",
    "    t2 = threading.Thread(target=print_cubes)\n",
    "\n",
    "    \n",
    "    t1.start()\n",
    "    t2.start()\n",
    "\n",
    "    \n",
    "    t1.join()\n",
    "    t2.join()\n",
    "\n",
    "    print(\"Done!\")\n"
   ]
  },
  {
   "cell_type": "code",
   "execution_count": null,
   "id": "2d1d2d23-53a4-4d89-9e32-223d783ef419",
   "metadata": {},
   "outputs": [],
   "source": [
    "State advantages and disadvantages of multithreading"
   ]
  },
  {
   "cell_type": "code",
   "execution_count": null,
   "id": "9a13b5e0-76f0-4d0b-8251-630e4ae2e957",
   "metadata": {},
   "outputs": [],
   "source": [
    "Advantages:\n",
    "\n",
    "Improved performance\n",
    "Responsiveness\n",
    "Resource sharing\n",
    "\n",
    "Disadvantages:\n",
    "\n",
    "Complexity\n",
    "Debugging and testing\n",
    "Resource consumption"
   ]
  },
  {
   "cell_type": "code",
   "execution_count": null,
   "id": "6c7e3b10-124c-483f-abb3-3db089917601",
   "metadata": {},
   "outputs": [],
   "source": [
    "Explain deadlocks and race conditions."
   ]
  },
  {
   "cell_type": "code",
   "execution_count": null,
   "id": "c86ea0cf-b8c1-4359-8b0b-f4366712ea93",
   "metadata": {},
   "outputs": [],
   "source": [
    "Deadlocks and race conditions are two common issues that can occur in multithreaded applications in Python.\n",
    "\n",
    "Deadlock occurs when two or more threads are blocked, waiting for each other to release a resource they need to proceed.\n",
    "\n",
    "Race condition occurs when two or more threads access a shared resource simultaneously,\n",
    "and the outcome depends on the order of execution of the threads. "
   ]
  }
 ],
 "metadata": {
  "kernelspec": {
   "display_name": "Python 3 (ipykernel)",
   "language": "python",
   "name": "python3"
  },
  "language_info": {
   "codemirror_mode": {
    "name": "ipython",
    "version": 3
   },
   "file_extension": ".py",
   "mimetype": "text/x-python",
   "name": "python",
   "nbconvert_exporter": "python",
   "pygments_lexer": "ipython3",
   "version": "3.10.8"
  }
 },
 "nbformat": 4,
 "nbformat_minor": 5
}
